{
  "nbformat": 4,
  "nbformat_minor": 0,
  "metadata": {
    "colab": {
      "name": "01-data_preproc.ipynb",
      "version": "0.3.2",
      "provenance": [],
      "private_outputs": true
    },
    "kernelspec": {
      "name": "python2",
      "display_name": "Python 2"
    }
  },
  "cells": [
    {
      "metadata": {
        "id": "JolileErHCaH",
        "colab_type": "code",
        "colab": {}
      },
      "cell_type": "code",
      "source": [
        "%%bash\n",
        "pip install pandas-profiling"
      ],
      "execution_count": 0,
      "outputs": []
    },
    {
      "metadata": {
        "id": "zQu1f-QmGexE",
        "colab_type": "code",
        "colab": {}
      },
      "cell_type": "code",
      "source": [
        "import os\n",
        "import pandas as pd\n",
        "from pandas_profiling import ProfileReport\n",
        "\n",
        "%matplotlib inline\n",
        "pd.options.display.max_rows = 10\n",
        "pd.options.display.float_format = '{:.1f}'.format"
      ],
      "execution_count": 0,
      "outputs": []
    },
    {
      "metadata": {
        "id": "MfUS5fF2GfFn",
        "colab_type": "code",
        "colab": {}
      },
      "cell_type": "code",
      "source": [
        "REGION = 'asia-east1'\n",
        "BUCKET = '{BUCKET}'\n",
        "PROJECT = '{PROJECT}'"
      ],
      "execution_count": 0,
      "outputs": []
    },
    {
      "metadata": {
        "id": "8e1gHCT4GlCH",
        "colab_type": "text"
      },
      "cell_type": "markdown",
      "source": [
        "# Cloud Setup\n",
        "This section is only required if running on cloud"
      ]
    },
    {
      "metadata": {
        "id": "FJnHrsFHGlVQ",
        "colab_type": "code",
        "colab": {}
      },
      "cell_type": "code",
      "source": [
        "os.environ['BUCKET'] = BUCKET\n",
        "os.environ['PROJECT'] = PROJECT\n",
        "os.environ['REGION'] = REGION"
      ],
      "execution_count": 0,
      "outputs": []
    },
    {
      "metadata": {
        "id": "otbgjhTeGn-f",
        "colab_type": "code",
        "colab": {}
      },
      "cell_type": "code",
      "source": [
        "%%bash\n",
        "gcloud config set project $PROJECT\n",
        "gcloud config set compute/region $REGION"
      ],
      "execution_count": 0,
      "outputs": []
    },
    {
      "metadata": {
        "id": "2O9fiCiOGrxu",
        "colab_type": "text"
      },
      "cell_type": "markdown",
      "source": [
        "# Data Profiling\n",
        "Data profiling is done to better understand the data, and to see if there are any invalid data (e.g. out of bounds data, unexpected data types). No data preprocessing should be done here; it should be done in tf.transform so as to have a consistent data pipeline."
      ]
    },
    {
      "metadata": {
        "id": "-fXLiBBpGsFY",
        "colab_type": "code",
        "colab": {}
      },
      "cell_type": "code",
      "source": [
        "df = pd.read_csv('https://dl.dropboxusercontent.com/s/y7lm7aton223abm/spam.csv')[['v1', 'v2']]\n",
        "df"
      ],
      "execution_count": 0,
      "outputs": []
    },
    {
      "metadata": {
        "id": "-y2ucs2jHPrX",
        "colab_type": "code",
        "colab": {}
      },
      "cell_type": "code",
      "source": [
        "ProfileReport(df)"
      ],
      "execution_count": 0,
      "outputs": []
    },
    {
      "metadata": {
        "id": "gmEgecH0HRgZ",
        "colab_type": "text"
      },
      "cell_type": "markdown",
      "source": [
        "# Split Data\n",
        "Example uses 80-10-10 split for train, eval and test - change if necessary"
      ]
    },
    {
      "metadata": {
        "id": "B_dc6vYGGv0H",
        "colab_type": "code",
        "colab": {}
      },
      "cell_type": "code",
      "source": [
        "RANDOM_SEED = 42\n",
        "train = df.sample(frac=0.8, random_state=RANDOM_SEED)\n",
        "eval = df.drop(train.index)\n",
        "test = eval.sample(frac=0.5, random_state=RANDOM_SEED)\n",
        "eval = eval.drop(test.index)"
      ],
      "execution_count": 0,
      "outputs": []
    },
    {
      "metadata": {
        "id": "YlsukCL7I9sg",
        "colab_type": "code",
        "colab": {}
      },
      "cell_type": "code",
      "source": [
        "def export_datasets(on_cloud=False):\n",
        "  if on_cloud:\n",
        "    data_dir = 'gs://{bucket}/spam-classification/data/split'.format(bucket=BUCKET)\n",
        "  else:\n",
        "    data_dir = 'data/split'\n",
        "    \n",
        "  if not os.path.exists('data'):\n",
        "    os.mkdir('data')\n",
        "  if not os.path.exists('data/split'):\n",
        "    os.mkdir('data/split')\n",
        "    \n",
        "  train.to_csv(os.path.join(data_dir, 'train.csv'))\n",
        "  eval.to_csv(os.path.join(data_dir, 'eval.csv'))\n",
        "  test.to_csv(os.path.join(data_dir, 'test.csv'))\n",
        "  \n",
        "  return\n",
        "  \n",
        "export_datasets(on_cloud=False)"
      ],
      "execution_count": 0,
      "outputs": []
    }
  ]
}