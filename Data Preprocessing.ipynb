{
  "nbformat": 4,
  "nbformat_minor": 0,
  "metadata": {
    "colab": {
      "name": "Data Preprocessing.ipynb",
      "version": "0.3.2",
      "provenance": [],
      "private_outputs": true,
      "collapsed_sections": []
    },
    "kernelspec": {
      "name": "python2",
      "display_name": "Python 2"
    },
    "accelerator": "GPU"
  },
  "cells": [
    {
      "metadata": {
        "id": "GIw5zgSkf7mh",
        "colab_type": "code",
        "colab": {}
      },
      "cell_type": "code",
      "source": [
        "%%bash\n",
        "pip uninstall -y google-cloud-dataflow\n",
        "pip install --upgrade --force tensorflow_transform apache-beam[gcp]"
      ],
      "execution_count": 0,
      "outputs": []
    },
    {
      "metadata": {
        "id": "PvYMdQBxgGp9",
        "colab_type": "code",
        "colab": {}
      },
      "cell_type": "code",
      "source": [
        "import tensorflow as tf\n",
        "import tensorflow_transform as tft\n",
        "import tensorflow_hub as hub\n",
        "from tensorflow_transform.beam import impl as beam_impl\n",
        "import shutil\n",
        "import os\n",
        "import pandas as pd\n",
        "\n",
        "pd.options.display.max_rows = 10\n",
        "pd.options.display.float_format = '{:.1f}'.format\n",
        "print(tf.__version__)"
      ],
      "execution_count": 0,
      "outputs": []
    },
    {
      "metadata": {
        "id": "MXxbc63JgWkx",
        "colab_type": "text"
      },
      "cell_type": "markdown",
      "source": [
        "# Cloud Setup\n",
        "This section is only required if running on cloud"
      ]
    },
    {
      "metadata": {
        "id": "PCiL-sUKgUp1",
        "colab_type": "code",
        "colab": {}
      },
      "cell_type": "code",
      "source": [
        "REGION = 'asia-east1'\n",
        "BUCKET = '{BUCKET}'\n",
        "PROJECT = '{PROJECT}'\n",
        "os.environ['BUCKET'] = BUCKET\n",
        "os.environ['PROJECT'] = PROJECT\n",
        "os.environ['REGION'] = REGION"
      ],
      "execution_count": 0,
      "outputs": []
    },
    {
      "metadata": {
        "id": "7LnF9NCdgcZV",
        "colab_type": "code",
        "colab": {}
      },
      "cell_type": "code",
      "source": [
        "%%bash\n",
        "gcloud config set project $PROJECT\n",
        "gcloud config set compute/region $REGION"
      ],
      "execution_count": 0,
      "outputs": []
    },
    {
      "metadata": {
        "id": "qafXNRhkgqWx",
        "colab_type": "text"
      },
      "cell_type": "markdown",
      "source": [
        "# Split Dataset"
      ]
    },
    {
      "metadata": {
        "id": "cnu1C5csgys9",
        "colab_type": "code",
        "colab": {}
      },
      "cell_type": "code",
      "source": [
        "df = pd.read_csv('https://dl.dropboxusercontent.com/s/y7lm7aton223abm/spam.csv')[['v1', 'v2']]\n",
        "df"
      ],
      "execution_count": 0,
      "outputs": []
    },
    {
      "metadata": {
        "id": "qzhISKR9hXzO",
        "colab_type": "code",
        "colab": {}
      },
      "cell_type": "code",
      "source": [
        "RANDOM_SEED = 42\n",
        "train = df.sample(frac=0.8, random_state=RANDOM_SEED)\n",
        "eval = df.drop(train.index)\n",
        "test = eval.sample(frac=0.5, random_state=RANDOM_SEED)\n",
        "eval = eval.drop(test.index)"
      ],
      "execution_count": 0,
      "outputs": []
    },
    {
      "metadata": {
        "id": "3wqf0DGrjKeR",
        "colab_type": "text"
      },
      "cell_type": "markdown",
      "source": [
        "# Create Dataset using tf.transform"
      ]
    },
    {
      "metadata": {
        "id": "DfDQYYAli_Q4",
        "colab_type": "code",
        "colab": {}
      },
      "cell_type": "code",
      "source": [
        "def is_valid(inputs):\n",
        "  try:\n",
        "    text = inputs['text']\n",
        "    spam = inputs['spam']\n",
        "    return (text in ('ham', 'spam')) and (len(text) > 0)\n",
        "  except:\n",
        "    return False\n",
        "  \n",
        "def preprocess_tft(inputs):\n",
        "  module_url = \"https://tfhub.dev/google/nnlm-en-dim128-with-normalization/1\"\n",
        "  embed = hub.Module(module_url)\n",
        "  result = {}\n",
        "  result['text_embedding'] = embed([inputs])[0]\n",
        "  result['spam'] = tf.identity(inputs['spam'])\n",
        "  return result\n",
        "\n",
        "def preprocess(on_cloud=False):\n",
        "  import datetime\n",
        "  import os\n",
        "  import tempfile\n",
        "  from apache_beam.io import tfrecordio\n",
        "  from tensorflow_transform.coders import example_proto_coder\n",
        "  from tensorflow_transform.tf_metadata import dataset_metadata\n",
        "  from tensorflow_transform.tf_metadata import dataset_schema\n",
        "  from tensorflow_transform.beam import tft_beam_io\n",
        "  from tensorflow_transform.beam.tft_beam_io import transform_fn_io\n",
        "  \n",
        "  job_name = "
      ],
      "execution_count": 0,
      "outputs": []
    }
  ]
}