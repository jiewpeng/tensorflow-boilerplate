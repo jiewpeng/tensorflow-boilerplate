{
 "cells": [
  {
   "cell_type": "code",
   "execution_count": 1,
   "metadata": {},
   "outputs": [
    {
     "name": "stderr",
     "output_type": "stream",
     "text": [
      "/home/jiewpeng/anaconda2/lib/python2.7/site-packages/h5py/__init__.py:36: FutureWarning: Conversion of the second argument of issubdtype from `float` to `np.floating` is deprecated. In future, it will be treated as `np.float64 == np.dtype(float).type`.\n",
      "  from ._conv import register_converters as _register_converters\n"
     ]
    }
   ],
   "source": [
    "import tensorflow as tf\n",
    "import tensorflow_hub as hub"
   ]
  },
  {
   "cell_type": "code",
   "execution_count": 13,
   "metadata": {},
   "outputs": [
    {
     "name": "stdout",
     "output_type": "stream",
     "text": [
      "INFO:tensorflow:Saver not created because there are no variables in the graph to restore\n"
     ]
    }
   ],
   "source": [
    "def module_fn():\n",
    "    MAX_SEQ_LEN = 5\n",
    "    base_module = hub.Module('https://tfhub.dev/google/nnlm-en-dim128/1')\n",
    "    \n",
    "    text_input = tf.placeholder(dtype=tf.string, shape=[None])\n",
    "    reshaped_input = tf.reshape(text_input, [-1])\n",
    "    split = tf.strings.split(reshaped_input)\n",
    "    split = tf.sparse.to_dense(split, default_value='')\n",
    "    seq_len = tf.shape(split)[1]    \n",
    "    batch_size = tf.shape(split)[0]\n",
    "    split = tf.cond(\n",
    "        seq_len < MAX_SEQ_LEN,\n",
    "        lambda: tf.pad(split, [[0, 0], [0, MAX_SEQ_LEN - seq_len]], constant_values=''),\n",
    "        lambda: tf.slice(split, [0, 0], [batch_size, MAX_SEQ_LEN])\n",
    "    )\n",
    "    embeddings = tf.map_fn(base_module, split, dtype=tf.float32)\n",
    "    hub.add_signature(inputs=text_input, outputs=embeddings)\n",
    "\n",
    "my_module_spec = hub.create_module_spec(\n",
    "    module_fn,\n",
    ")\n",
    "\n",
    "sequence_embed = hub.Module(my_module_spec)\n",
    "normal_embed = hub.Module('https://tfhub.dev/google/nnlm-en-dim128/1')"
   ]
  },
  {
   "cell_type": "code",
   "execution_count": 16,
   "metadata": {},
   "outputs": [
    {
     "name": "stdout",
     "output_type": "stream",
     "text": [
      "INFO:tensorflow:Saver not created because there are no variables in the graph to restore\n",
      "INFO:tensorflow:Saver not created because there are no variables in the graph to restore\n"
     ]
    }
   ],
   "source": [
    "init = [tf.global_variables_initializer(), tf.tables_initializer()]\n",
    "x = tf.constant(['the', 'fox'])\n",
    "with tf.Session() as sess:\n",
    "    sess.run(init)\n",
    "    embeddings_mymodule = sess.run(sequence_embed(x))\n",
    "    embeddings_base = sess.run(normal_embed(x))"
   ]
  },
  {
   "cell_type": "code",
   "execution_count": 24,
   "metadata": {},
   "outputs": [
    {
     "data": {
      "text/plain": [
       "array([[ True,  True,  True,  True,  True,  True,  True,  True,  True,\n",
       "         True,  True,  True,  True,  True,  True,  True,  True,  True,\n",
       "         True,  True,  True,  True,  True,  True,  True,  True,  True,\n",
       "         True,  True,  True,  True,  True,  True,  True,  True,  True,\n",
       "         True,  True,  True,  True,  True,  True,  True,  True,  True,\n",
       "         True,  True,  True,  True,  True,  True,  True,  True,  True,\n",
       "         True,  True,  True,  True,  True,  True,  True,  True,  True,\n",
       "         True,  True,  True,  True,  True,  True,  True,  True,  True,\n",
       "         True,  True,  True,  True,  True,  True,  True,  True,  True,\n",
       "         True,  True,  True,  True,  True,  True,  True,  True,  True,\n",
       "         True,  True,  True,  True,  True,  True,  True,  True,  True,\n",
       "         True,  True,  True,  True,  True,  True,  True,  True,  True,\n",
       "         True,  True,  True,  True,  True,  True,  True,  True,  True,\n",
       "         True,  True,  True,  True,  True,  True,  True,  True,  True,\n",
       "         True,  True],\n",
       "       [ True,  True,  True,  True,  True,  True,  True,  True,  True,\n",
       "         True,  True,  True,  True,  True,  True,  True,  True,  True,\n",
       "         True,  True,  True,  True,  True,  True,  True,  True,  True,\n",
       "         True,  True,  True,  True,  True,  True,  True,  True,  True,\n",
       "         True,  True,  True,  True,  True,  True,  True,  True,  True,\n",
       "         True,  True,  True,  True,  True,  True,  True,  True,  True,\n",
       "         True,  True,  True,  True,  True,  True,  True,  True,  True,\n",
       "         True,  True,  True,  True,  True,  True,  True,  True,  True,\n",
       "         True,  True,  True,  True,  True,  True,  True,  True,  True,\n",
       "         True,  True,  True,  True,  True,  True,  True,  True,  True,\n",
       "         True,  True,  True,  True,  True,  True,  True,  True,  True,\n",
       "         True,  True,  True,  True,  True,  True,  True,  True,  True,\n",
       "         True,  True,  True,  True,  True,  True,  True,  True,  True,\n",
       "         True,  True,  True,  True,  True,  True,  True,  True,  True,\n",
       "         True,  True]])"
      ]
     },
     "execution_count": 24,
     "metadata": {},
     "output_type": "execute_result"
    }
   ],
   "source": [
    "embeddings_mymodule[:, 0] == embeddings_base"
   ]
  },
  {
   "cell_type": "code",
   "execution_count": 33,
   "metadata": {},
   "outputs": [],
   "source": [
    "from trainer.model import build_estimator, read_dataset\n",
    "from tensorflow.python import debug as tf_debug\n",
    "import shutil"
   ]
  },
  {
   "cell_type": "code",
   "execution_count": 34,
   "metadata": {
    "scrolled": false
   },
   "outputs": [
    {
     "ename": "SystemExit",
     "evalue": "1",
     "output_type": "error",
     "traceback": [
      "An exception has occurred, use %tb to see the full traceback.\n",
      "\u001b[0;31mSystemExit\u001b[0m\u001b[0;31m:\u001b[0m 1\n"
     ]
    }
   ],
   "source": [
    "estimator = build_estimator(\n",
    "    model_dir='./model_trained', \n",
    "    model_type='sepcnn', \n",
    "    embedding_type='nnlm', \n",
    "    learning_rate=0.01,\n",
    "    hidden_units=[128, 64],\n",
    "    dropout=0.5,\n",
    "    l1_regularization_strength=0.01, \n",
    "    l2_regularization_strength=0.01,\n",
    "    blocks=2, \n",
    "    filters=8, \n",
    "    kernel_size=3, \n",
    "    pool_size=3)\n",
    "\n",
    "args = {\n",
    "    'train_data_paths': './data/tft/train*',\n",
    "    'eval_data_paths': './data/tft/eval*',\n",
    "    'model_dir': './model_trained',\n",
    "    'num_epochs': 1,\n",
    "    'train_batch_size': 256,\n",
    "    'eval_batch_size': 256,\n",
    "    'metadata_path': './data/tft/metadata',\n",
    "    'model_type': 'sepcnn'\n",
    "}\n",
    "\n",
    "hooks = [tf_debug.LocalCLIDebugHook()]\n",
    "\n",
    "shutil.rmtree('./model_trained', ignore_errors=True)\n",
    "\n",
    "estimator.train(input_fn=read_dataset(args, mode=tf.estimator.ModeKeys.TRAIN), steps=1000, hooks=hooks)"
   ]
  },
  {
   "cell_type": "code",
   "execution_count": null,
   "metadata": {},
   "outputs": [],
   "source": []
  }
 ],
 "metadata": {
  "kernelspec": {
   "display_name": "Python 2",
   "language": "python",
   "name": "python2"
  },
  "language_info": {
   "codemirror_mode": {
    "name": "ipython",
    "version": 2
   },
   "file_extension": ".py",
   "mimetype": "text/x-python",
   "name": "python",
   "nbconvert_exporter": "python",
   "pygments_lexer": "ipython2",
   "version": "2.7.15"
  }
 },
 "nbformat": 4,
 "nbformat_minor": 2
}
