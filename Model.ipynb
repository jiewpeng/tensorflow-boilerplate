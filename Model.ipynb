{
  "nbformat": 4,
  "nbformat_minor": 0,
  "metadata": {
    "colab": {
      "name": "Model.ipynb",
      "version": "0.3.2",
      "provenance": []
    },
    "kernelspec": {
      "display_name": "Python [default]",
      "language": "python",
      "name": "python3"
    }
  },
  "cells": [
    {
      "metadata": {
        "id": "nSkew8KnU3qJ",
        "colab_type": "code",
        "colab": {
          "base_uri": "https://localhost:8080/",
          "height": 35
        },
        "outputId": "49f69de6-f666-42e5-8a5b-01bb370862da"
      },
      "cell_type": "code",
      "source": [
        "from __future__ import print_function, division, absolute_import # python 2 compatibility\n",
        "import tensorflow as tf\n",
        "import apache_beam as beam\n",
        "import shutil\n",
        "import os\n",
        "print(tf.__version__)"
      ],
      "execution_count": 7,
      "outputs": [
        {
          "output_type": "stream",
          "text": [
            "1.9.0\n"
          ],
          "name": "stdout"
        }
      ]
    },
    {
      "metadata": {
        "id": "EBEdbhATWPmL",
        "colab_type": "text"
      },
      "cell_type": "markdown",
      "source": [
        "Required if using Cloud ML Engine to run the model, otherwise not required"
      ]
    },
    {
      "metadata": {
        "id": "VYAQsX-rVK3H",
        "colab_type": "code",
        "colab": {}
      },
      "cell_type": "code",
      "source": [
        "REGION = 'asia-east1'\n",
        "BUCKET = '{BUCKET}'\n",
        "PROJECT = '{PROJECT}'\n",
        "os.environ['PROJECT'] = PROJECT\n",
        "os.environ['BUCKET'] = BUCKET\n",
        "os.environ['REGION'] = REGION\n",
        "os.environ['TFVERSION'] = '1.9'"
      ],
      "execution_count": 0,
      "outputs": []
    },
    {
      "metadata": {
        "id": "Ia9n5ZtEWFks",
        "colab_type": "code",
        "colab": {}
      },
      "cell_type": "code",
      "source": [
        "%bash\n",
        "gcloud config set project $PROJECT\n",
        "gcloud config set compute/region $REGION"
      ],
      "execution_count": 0,
      "outputs": []
    },
    {
      "metadata": {
        "id": "CRKcKSb6Wnyr",
        "colab_type": "text"
      },
      "cell_type": "markdown",
      "source": [
        "---"
      ]
    },
    {
      "metadata": {
        "id": "C952m8_sWKJf",
        "colab_type": "code",
        "colab": {}
      },
      "cell_type": "code",
      "source": [
        ""
      ],
      "execution_count": 0,
      "outputs": []
    }
  ]
}